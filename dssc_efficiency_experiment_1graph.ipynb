{
  "nbformat": 4,
  "nbformat_minor": 0,
  "metadata": {
    "colab": {
      "provenance": [],
      "authorship_tag": "ABX9TyPaJV3tir7OPfoIMTx3Eav2",
      "include_colab_link": true
    },
    "kernelspec": {
      "name": "python3",
      "display_name": "Python 3"
    },
    "language_info": {
      "name": "python"
    }
  },
  "cells": [
    {
      "cell_type": "markdown",
      "metadata": {
        "id": "view-in-github",
        "colab_type": "text"
      },
      "source": [
        "<a href=\"https://colab.research.google.com/github/pforu/dssc_efficiency_experiment/blob/main/dssc_efficiency_experiment_1graph.ipynb\" target=\"_parent\"><img src=\"https://colab.research.google.com/assets/colab-badge.svg\" alt=\"Open In Colab\"/></a>"
      ]
    },
    {
      "cell_type": "code",
      "execution_count": null,
      "metadata": {
        "id": "Gd2El4MC6-Wf"
      },
      "outputs": [],
      "source": [
        "import matplotlib.pyplot as plt\n",
        "import numpy as np\n",
        "from scipy.interpolate import make_interp_spline\n",
        "\n",
        "\n",
        "x0 = np.array([-10, 20, 40, 60, 80])\n",
        "y0 = np.array([0.49, 0.44, 0.39, 0.32, 0.17])\n",
        "model = make_interp_spline(x0, y0)\n",
        "x00 = np.linspace(0, 100, 1000)\n",
        "y00 = model(x00)\n",
        "\n",
        "x1 = np.array([-10, 20, 40, 60, 80])\n",
        "y1 = np.array([0.71, 0.68, 0.64, 0.57, 0.35])\n",
        "model = make_interp_spline(x1, y1)\n",
        "x01 = np.linspace(0, 100, 1000)\n",
        "y01 = model(x01)\n",
        "\n",
        "x2 = np.array([-10, 20, 40, 60, 80])\n",
        "y2 = np.array([0.84, 0.82, 0.80, 0.74, 0.38])\n",
        "model = make_interp_spline(x2, y2)\n",
        "x02 = np.linspace(0, 100, 1000)\n",
        "y02 = model(x02)\n",
        "\n",
        "\n",
        "\n",
        "fig = plt.figure(figsize=(5, 5))\n",
        "ax = fig.add_subplot(1, 1, 1)\n",
        "ax.set_xlabel(\"TiO2(%)\")\n",
        "ax.set_ylabel(\"voltage(v)\")\n",
        "\n",
        "\n",
        "ax.plot(x0, y0, 'o')\n",
        "ax.plot(x1, y1, 'o')\n",
        "ax.plot(x2, y2, 'o')\n",
        "\n",
        "\n",
        "ax.plot(x00, y00, linewidth=1.0)\n",
        "ax.plot(x01, y01, linewidth=1.0)\n",
        "ax.plot(x02, y02, linewidth=1.0)\n",
        "\n",
        "ax.set(xlim=(0, 100), xticks=np.arange(0, 100, 10), ylim=(0, 1), yticks=np.arange(0, 1, 0.1))\n",
        "\n",
        "ax.set_title(\"dssc efficiency experiment\")\n",
        "\n",
        "\n",
        "plt.show()"
      ]
    }
  ]
}