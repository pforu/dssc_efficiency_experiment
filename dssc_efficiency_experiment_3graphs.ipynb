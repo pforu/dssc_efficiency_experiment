{
  "nbformat": 4,
  "nbformat_minor": 0,
  "metadata": {
    "colab": {
      "provenance": [],
      "authorship_tag": "ABX9TyPoLYSXykmEcp71PH4TYqDP",
      "include_colab_link": true
    },
    "kernelspec": {
      "name": "python3",
      "display_name": "Python 3"
    },
    "language_info": {
      "name": "python"
    }
  },
  "cells": [
    {
      "cell_type": "markdown",
      "metadata": {
        "id": "view-in-github",
        "colab_type": "text"
      },
      "source": [
        "<a href=\"https://colab.research.google.com/github/pforu/dssc_efficiency_experiment/blob/main/dssc_efficiency_experiment_3graphs.ipynb\" target=\"_parent\"><img src=\"https://colab.research.google.com/assets/colab-badge.svg\" alt=\"Open In Colab\"/></a>"
      ]
    },
    {
      "cell_type": "code",
      "execution_count": null,
      "metadata": {
        "id": "OHxCxYbt5tFP"
      },
      "outputs": [],
      "source": [
        "import matplotlib.pyplot as plt\n",
        "import numpy as np\n",
        "from scipy.interpolate import make_interp_spline\n",
        "\n",
        "\n",
        "x0 = np.array([-10, 20, 40, 60, 80])\n",
        "y0 = np.array([0.49, 0.44, 0.39, 0.32, 0.17])\n",
        "model = make_interp_spline(x0, y0)\n",
        "x00 = np.linspace(0, 100, 1000)\n",
        "y00 = model(x00)\n",
        "\n",
        "x1 = np.array([-10, 20, 40, 60, 80])\n",
        "y1 = np.array([0.71, 0.68, 0.64, 0.57, 0.35])\n",
        "model = make_interp_spline(x1, y1)\n",
        "x01 = np.linspace(0, 100, 1000)\n",
        "y01 = model(x01)\n",
        "\n",
        "x2 = np.array([-10, 20, 40, 60, 80])\n",
        "y2 = np.array([0.84, 0.82, 0.80, 0.74, 0.38])\n",
        "model = make_interp_spline(x2, y2)\n",
        "x02 = np.linspace(0, 100, 1000)\n",
        "y02 = model(x02)\n",
        "\n",
        "\n",
        "# plot\n",
        "fig, ax = plt.subplots(1, 3)\n",
        "fig.set_size_inches(15, 5)\n",
        "for i in range(3):\n",
        "  ax[i].set_xlabel(\"TiO2(%)\")\n",
        "  ax[i].set_ylabel(\"voltage(v)\")\n",
        "\n",
        "\n",
        "ax[0].set_title(\"anthocyanin concentration = 30%\")\n",
        "ax[1].set_title(\"anthocyanin concentration = 60%\")\n",
        "ax[2].set_title(\"anthocyanin concentration = 90%\")\n",
        "\n",
        "ax[0].plot(x0, y0, 'o')\n",
        "ax[1].plot(x1, y1, 'o')\n",
        "ax[2].plot(x2, y2, 'o')\n",
        "\n",
        "for i in range(3):\n",
        "  ax[i].grid(True)\n",
        "\n",
        "ax[0].plot(x00, y00, linewidth=1.0)\n",
        "ax[1].plot(x01, y01, linewidth=1.0)\n",
        "ax[2].plot(x02, y02, linewidth=1.0)\n",
        "\n",
        "for i in range(3):\n",
        "  ax[i].set(xlim=(0, 100), xticks=np.arange(0, 100, 10), ylim=(0, 1), yticks=np.arange(0, 1, 0.1))\n",
        "\n",
        "\n",
        "plt.show()"
      ]
    }
  ]
}